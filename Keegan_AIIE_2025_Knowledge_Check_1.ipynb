{
  "cells": [
    {
      "cell_type": "markdown",
      "metadata": {
        "id": "9Dj8pYHCHUMI"
      },
      "source": [
        "##Knowlwdge Check - 1\n"
      ]
    },
    {
      "cell_type": "markdown",
      "metadata": {
        "id": "hIzo8lkOm03D"
      },
      "source": [
        "### Printing output"
      ]
    },
    {
      "cell_type": "markdown",
      "metadata": {
        "id": "7AKKps5JXjPH"
      },
      "source": [
        "1 - Using print(), print your name and city following the format:\n",
        "\n",
        "        Name : Angela\n",
        "        City : New York\n"
      ]
    },
    {
      "cell_type": "code",
      "execution_count": null,
      "metadata": {
        "id": "ixFUad4Mm0Ei"
      },
      "outputs": [],
      "source": [
        "print(\"Name: Keegan Wills \\nCity: NYC\")"
      ]
    },
    {
      "cell_type": "markdown",
      "metadata": {
        "id": "2vonbXOxXpQH"
      },
      "source": [
        "2 - Print the message below\n",
        "\n",
        "     Emergency Alert\n",
        "     NEWS : FLASH FLOOD WARNING this area till 7:00 PM"
      ]
    },
    {
      "cell_type": "code",
      "execution_count": null,
      "metadata": {
        "id": "D4Iacgy_m61W"
      },
      "outputs": [],
      "source": [
        "print(\"Emergency Alert\\nNEWS : FLSAH FLOOD WARNING in this area until 7:00 pm\")\n",
        "\n"
      ]
    },
    {
      "cell_type": "markdown",
      "metadata": {
        "id": "lRuqg-hamQGT"
      },
      "source": [
        "### Arithmetic Operators and Variables"
      ]
    },
    {
      "cell_type": "markdown",
      "metadata": {
        "id": "j1-O0lZgX3K1"
      },
      "source": [
        "3 - Take a number and divide it by 2, then take the output and divide it by 2, and again divide by 2. Use variables.\n",
        "\n",
        "\n",
        "    Example\n",
        "    input : 2000\n",
        "    output is: 1000 500 250\n",
        "\n"
      ]
    },
    {
      "cell_type": "code",
      "execution_count": 1,
      "metadata": {
        "id": "3zsVDZcyl2l0"
      },
      "outputs": [
        {
          "name": "stdout",
          "output_type": "stream",
          "text": [
            "Output: 25.0 12.5 6.25 "
          ]
        }
      ],
      "source": [
        "x = 50\n",
        "\"\"\"for i in range(0, 3):\n",
        "  x /= 2\n",
        "  print(x)\"\"\"\n",
        "\n",
        "print(\"Output:\", end= \" \")\n",
        "for i in range(0, 3):\n",
        "  x/=2\n",
        "  print(x, end=\" \")"
      ]
    },
    {
      "cell_type": "markdown",
      "metadata": {
        "id": "deaFrnkLYGhJ"
      },
      "source": [
        "4 - Given three number x, y, and z,\n",
        "\n",
        "\n",
        "       Output: x to the power of z,\n",
        "               x to the power of y,\n",
        "               x minus y,\n",
        "               remainder value when x is divided by z"
      ]
    },
    {
      "cell_type": "code",
      "execution_count": 1,
      "metadata": {
        "id": "4SZRBko7mvc-"
      },
      "outputs": [
        {
          "name": "stdout",
          "output_type": "stream",
          "text": [
            "243\n",
            "81\n",
            "-1\n",
            "3\n"
          ]
        }
      ],
      "source": [
        "x = 3\n",
        "y = 4\n",
        "z = 5\n",
        "print(x**z)\n",
        "print(x**y)\n",
        "print(x-y)\n",
        "print(x%z)"
      ]
    },
    {
      "cell_type": "markdown",
      "metadata": {
        "id": "GE9xk6_TYcYN"
      },
      "source": [
        "5 - Add\n",
        "\n",
        "        4 quarters (0.25),  3 dimes (0.10), 2 nickels (0.5) and 1 cent\n",
        "        Output:  the total amount as dollars and cents."
      ]
    },
    {
      "cell_type": "code",
      "execution_count": null,
      "metadata": {
        "id": "UXZC9qSQsX9_"
      },
      "outputs": [
        {
          "name": "stdout",
          "output_type": "stream",
          "text": [
            "1.0 and 0.41 cents\n"
          ]
        }
      ],
      "source": [
        "\n",
        "money = 0.0\n",
        "money += 4.0 * 0.25\n",
        "money += 3.0*0.1\n",
        "money += 2.0*0.05\n",
        "money += 1.0*0.01\n",
        "dollars = money // 1\n",
        "cents = money - dollars\n",
        "cents = round(cents, 2)\n",
        "print(\"${} and {} cents\".format(dollars, cents))"
      ]
    },
    {
      "cell_type": "markdown",
      "metadata": {
        "id": "O618MLtRtynL"
      },
      "source": [
        "### Strings"
      ]
    },
    {
      "cell_type": "markdown",
      "metadata": {
        "id": "iXtnKBx8Ywy_"
      },
      "source": [
        "6 - Given the string **Python**, with the help of slicing, get **o**."
      ]
    },
    {
      "cell_type": "code",
      "execution_count": 2,
      "metadata": {
        "id": "EOD6mIiTtOzx"
      },
      "outputs": [
        {
          "name": "stdout",
          "output_type": "stream",
          "text": [
            "o\n"
          ]
        }
      ],
      "source": [
        "word = \"Python\"\n",
        "print(word[4])"
      ]
    },
    {
      "cell_type": "markdown",
      "metadata": {
        "id": "mgnqbERkY3-J"
      },
      "source": [
        "7 - Given the string **Python**, with the help of slicing get,  **tho**."
      ]
    },
    {
      "cell_type": "code",
      "execution_count": 4,
      "metadata": {
        "id": "7R58ftspuJK3"
      },
      "outputs": [
        {
          "name": "stdout",
          "output_type": "stream",
          "text": [
            "tho\n"
          ]
        }
      ],
      "source": [
        "word = \"Python\"\n",
        "print(word[2:5])\n",
        "\n"
      ]
    },
    {
      "cell_type": "markdown",
      "metadata": {
        "id": "U2g51swGY9Hf"
      },
      "source": [
        "8 - Given the string **Python Class**, with the help of slicing, get **Class**."
      ]
    },
    {
      "cell_type": "code",
      "execution_count": 5,
      "metadata": {
        "id": "sOUYJA0FuN78"
      },
      "outputs": [
        {
          "name": "stdout",
          "output_type": "stream",
          "text": [
            "Class\n"
          ]
        }
      ],
      "source": [
        "\n",
        "state = \"Python Class\"\n",
        "state_list = state.split(\" \")\n",
        "print(state_list[1])"
      ]
    },
    {
      "cell_type": "markdown",
      "metadata": {
        "id": "tLycBhPYZHsC"
      },
      "source": [
        "9 - Find the length of the String  **Welcome to Pace University**"
      ]
    },
    {
      "cell_type": "code",
      "execution_count": 6,
      "metadata": {
        "id": "YIERKBvluUdA"
      },
      "outputs": [
        {
          "name": "stdout",
          "output_type": "stream",
          "text": [
            "26\n"
          ]
        }
      ],
      "source": [
        "\n",
        "state = \"Welcome to Pace University\"\n",
        "print(len(state))"
      ]
    },
    {
      "cell_type": "markdown",
      "metadata": {
        "id": "l7SqRwF7ZNp8"
      },
      "source": [
        "10 - Split the String  **Welcome to Pace University**  into words"
      ]
    },
    {
      "cell_type": "code",
      "execution_count": null,
      "metadata": {
        "id": "1SBnxastueix"
      },
      "outputs": [],
      "source": [
        "state = \"Welcome to Pace University\"\n",
        "state_list = state.split(\" \")\n",
        "print(state_list)"
      ]
    },
    {
      "cell_type": "markdown",
      "metadata": {
        "id": "YK8s1_BYZSyO"
      },
      "source": [
        "11 - Replace the letter  **i**  with  **o**  in  **Artificial intelligence**"
      ]
    },
    {
      "cell_type": "code",
      "execution_count": 13,
      "metadata": {
        "id": "EDO4NXUUuoOm"
      },
      "outputs": [
        {
          "name": "stdout",
          "output_type": "stream",
          "text": [
            "Atrofocoal ontellogence\n"
          ]
        }
      ],
      "source": [
        "\n",
        "state = \"Atrificial intelligence\"\n",
        "state_list = list(state)\n",
        "for num, lett in enumerate(state_list):\n",
        "    if lett == \"i\":\n",
        "        state_list[num] = \"o\"\n",
        "state = \"\".join(state_list)\n",
        "print(state)\n"
      ]
    },
    {
      "cell_type": "markdown",
      "metadata": {
        "id": "VLMrFwqhZeNz"
      },
      "source": [
        "12 - convert the text  **DATA Science**  into lower case ( as **data science**)"
      ]
    },
    {
      "cell_type": "code",
      "execution_count": 23,
      "metadata": {
        "id": "T7NONPC-u94X"
      },
      "outputs": [
        {
          "name": "stdout",
          "output_type": "stream",
          "text": [
            "data science\n"
          ]
        }
      ],
      "source": [
        "state = \"DATA Science\"\n",
        "state = state.lower()\n",
        "print(state)\n"
      ]
    },
    {
      "cell_type": "markdown",
      "metadata": {
        "id": "4EHx_9ycZkwh"
      },
      "source": [
        "13 - convert the text  **DATA Science**  into UPPER case ( as **DATA SCIENCE**)"
      ]
    },
    {
      "cell_type": "code",
      "execution_count": null,
      "metadata": {
        "id": "Tg1-wbUPvUYI"
      },
      "outputs": [],
      "source": [
        "state = \"DATA Science\"\n",
        "state = state.upper()\n",
        "print(state)\n",
        "\n"
      ]
    },
    {
      "cell_type": "markdown",
      "metadata": {
        "id": "STL6BSOOZ44L"
      },
      "source": [
        "14 - reverse the given String  **Artificial intelligence**"
      ]
    },
    {
      "cell_type": "code",
      "execution_count": 32,
      "metadata": {
        "id": "CJPPWcOgvdWN"
      },
      "outputs": [
        {
          "name": "stdout",
          "output_type": "stream",
          "text": [
            "ecnegilletnI laicifitrA\n"
          ]
        }
      ],
      "source": [
        "state = \"Artificial Intelligence\"\n",
        "state_list = list(state)\n",
        "state_list.reverse()\n",
        "state = \"\".join(state_list)\n",
        "print(state)"
      ]
    },
    {
      "cell_type": "markdown",
      "metadata": {
        "id": "TU_sm0SsoGXV"
      },
      "source": [
        "###Comparision Operators"
      ]
    },
    {
      "cell_type": "markdown",
      "metadata": {
        "id": "XJYziySoaAdz"
      },
      "source": [
        "15 - Compare two number a =150, b = 225 and print if they are:\n",
        "\n",
        "        equal,\n",
        "        greater,\n",
        "        greater than or equal to,\n",
        "        less,\n",
        "        less than or equal to,  \n",
        "        not equal\n",
        "       \n",
        "        example : a < b\n",
        "                  print(\"a is less than b\")"
      ]
    },
    {
      "cell_type": "code",
      "execution_count": 35,
      "metadata": {
        "colab": {
          "base_uri": "https://localhost:8080/"
        },
        "id": "4qFJzGo3wIsC",
        "outputId": "426b6731-25e5-4677-8b91-22cbc01dd0a1"
      },
      "outputs": [
        {
          "name": "stdout",
          "output_type": "stream",
          "text": [
            "69 is less than 420\n",
            "69 is less than or equal to 420\n",
            "69 does not equal 420\n"
          ]
        }
      ],
      "source": [
        "\n",
        "x = 69\n",
        "y = 420\n",
        "if x == y:\n",
        "    print(\"{} and {} are equal to each other\".format(x,y))\n",
        "if x > y:\n",
        "    print(\"{} is greater than {}\".format(x,y))\n",
        "if x >= y:\n",
        "    print(\"{} is greater than or equal to {}\".format(x,y))\n",
        "if x < y:\n",
        "    print(\"{} is less than {}\".format(x,y))\n",
        "if x <= y:\n",
        "    print(\"{} is less than or equal to {}\".format(x,y))\n",
        "if x != y:\n",
        "    print(\"{} does not equal {}\".format(x,y))"
      ]
    },
    {
      "cell_type": "markdown",
      "metadata": {
        "id": "8kbRYQGy3fsq"
      },
      "source": [
        "###Lists"
      ]
    },
    {
      "cell_type": "markdown",
      "metadata": {
        "id": "UeK6ZxU53cZF"
      },
      "source": [
        "16 - Create a **list** of **lists** of integers elements"
      ]
    },
    {
      "cell_type": "code",
      "execution_count": null,
      "metadata": {
        "id": "GdMdQwi33cB5"
      },
      "outputs": [],
      "source": [
        "numbers = [[3, 5, 7, 11, 13, 17, 19], [2, 4, 6, 8, 10], [4, 16, 25, 36,42]]"
      ]
    },
    {
      "cell_type": "markdown",
      "metadata": {
        "id": "pWriOAll3sCF"
      },
      "source": [
        "17 - Create a **list** of **lists** of Text elements"
      ]
    },
    {
      "cell_type": "code",
      "execution_count": null,
      "metadata": {
        "id": "eCXFxSi13rXa"
      },
      "outputs": [],
      "source": [
        "words = [[\"Pineapple\", \"Apple\", \"Banana\", \"Blueberry\"], [\"Carrot\", \"Broccoli\", \"Corn\", \"Pumpkin\"]]"
      ]
    },
    {
      "cell_type": "markdown",
      "metadata": {
        "id": "8zC2JP7i3ubU"
      },
      "source": []
    }
  ],
  "metadata": {
    "colab": {
      "provenance": []
    },
    "kernelspec": {
      "display_name": "Python 3",
      "name": "python3"
    },
    "language_info": {
      "codemirror_mode": {
        "name": "ipython",
        "version": 3
      },
      "file_extension": ".py",
      "mimetype": "text/x-python",
      "name": "python",
      "nbconvert_exporter": "python",
      "pygments_lexer": "ipython3",
      "version": "3.10.11"
    }
  },
  "nbformat": 4,
  "nbformat_minor": 0
}
